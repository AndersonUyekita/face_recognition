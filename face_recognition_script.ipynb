{
 "cells": [
  {
   "cell_type": "markdown",
   "id": "fbd75952-9253-4f8e-add8-1ff343ed0abd",
   "metadata": {},
   "source": [
    "# Face Recognition\n",
    "\n",
    "Esse `Jupyter Notebook` possui a finalidade de explanar o funcionamento do _script_. No entanto, ele consome mais memória e possui um desempenho pior que aquele executado diretamente de um arquivo `.py`."
   ]
  },
  {
   "cell_type": "markdown",
   "id": "c5b85fea-903c-486a-a94d-64325126bda0",
   "metadata": {},
   "source": [
    "## 1. Bibliotecas usadas\n",
    "\n",
    "* `face_recognition`: Utilizado para detectar e reconhecer rostos em imagens.\n",
    "* `cv2` (OpenCV): Utilizado para capturar vídeo da webcam e manipular imagens (desenhar retângulos, redimensionar, etc.).\n",
    "* `PIL` (Pillow): Utilizado para carregar e converter imagens em arrays NumPy.\n",
    "* `os`: Utilizado para interagir com o sistema de arquivos (listar arquivos no diretório).\n",
    "* `re` (regex): Utilizado para manipulação de expressões regulares (extração de informações dos nomes dos arquivos).\n",
    "* `numpy`: Utilizado para manipulação eficiente de arrays numéricos (representação de imagens)."
   ]
  },
  {
   "cell_type": "code",
   "execution_count": 1,
   "id": "4e93866a-5f3e-46d9-8863-bde719414328",
   "metadata": {},
   "outputs": [],
   "source": [
    "import cv2\n",
    "import numpy as np\n",
    "import os\n",
    "import re\n",
    "from PIL import Image\n",
    "import face_recognition"
   ]
  },
  {
   "cell_type": "markdown",
   "id": "73142bef-2cbe-4cff-a84e-4dbd59c68608",
   "metadata": {},
   "source": [
    "## 2. Funções\n",
    "\n",
    "Serve para abstrair o código e deixá-lo mais eficiente.\n",
    "\n",
    "### 2.1. Encoding\n",
    "\n",
    "Essa função faz a leitura das imagens de uma pasta."
   ]
  },
  {
   "cell_type": "code",
   "execution_count": 2,
   "id": "81c06e42-4205-4198-83c3-e6880a7a8d50",
   "metadata": {},
   "outputs": [],
   "source": [
    "# Função para carregar uma imagem e obter codificações faciais usando PIL\n",
    "def load_image_and_get_encoding(image_path):\n",
    "    try:\n",
    "        # Carregar a imagem usando PIL\n",
    "        image = Image.open(image_path)\n",
    "        image = np.array(image)\n",
    "        # Obter codificações faciais\n",
    "        face_encodings = face_recognition.face_encodings(image)\n",
    "        if face_encodings:\n",
    "            return face_encodings[0]\n",
    "        else:\n",
    "            print(f\"No face encodings found in image {image_path}\")\n",
    "            return None\n",
    "    except Exception as e:\n",
    "        print(f\"Error loading image {image_path}: {e}\")\n",
    "        return None"
   ]
  },
  {
   "cell_type": "markdown",
   "id": "cd949893-45f9-48a6-89b2-f48ee8209e7b",
   "metadata": {},
   "source": [
    "### 2.2. Carrega imagens\n",
    "\n",
    "Lê todas as imagens de uma pasta e captura o `nome` e o `RE`."
   ]
  },
  {
   "cell_type": "code",
   "execution_count": 3,
   "id": "44309212-e241-40e5-ae80-314b39f253ea",
   "metadata": {},
   "outputs": [],
   "source": [
    "# Função para carregar imagens de exemplo e aprender a reconhecer elas\n",
    "def load_known_faces(known_images_folder):\n",
    "    known_face_encodings = []\n",
    "    known_face_names = []\n",
    "    known_face_ids = []\n",
    "\n",
    "    for file_name in os.listdir(known_images_folder):\n",
    "        # Verifica se o arquivo é uma imagem\n",
    "        if file_name.endswith('.jpg') or file_name.endswith('.png'):\n",
    "            # Extrai o número de registro (re) e o nome da pessoa\n",
    "            match = re.match(r'(\\d+)_([a-zA-Z_]+)\\.jpg', file_name)\n",
    "            if match:\n",
    "                re_number, name = match.groups()\n",
    "                name = name.replace('_', ' ').title()  # Formata o nome\n",
    "                image_path = os.path.join(known_images_folder, file_name)\n",
    "                \n",
    "                # Carrega a imagem e codifica o rosto\n",
    "                face_encoding = load_image_and_get_encoding(image_path)\n",
    "                if face_encoding is not None:  # Verifica se a codificação foi encontrada\n",
    "                    known_face_encodings.append(face_encoding)\n",
    "                    known_face_names.append(name)\n",
    "                    known_face_ids.append(re_number)\n",
    "\n",
    "    return known_face_encodings, known_face_names, known_face_ids"
   ]
  },
  {
   "cell_type": "markdown",
   "id": "08091ce4-66e0-4e0f-b751-f9d6a5337d6c",
   "metadata": {},
   "source": [
    "### 2.3. Filmagem\n",
    "\n",
    "Abertura da câmera e filmagem com sobreposição de enquadramento com nome."
   ]
  },
  {
   "cell_type": "code",
   "execution_count": 4,
   "id": "d0487046-2793-4817-b9b9-ac5922493f38",
   "metadata": {},
   "outputs": [
    {
     "name": "stdout",
     "output_type": "stream",
     "text": [
      "Known faces loaded successfully!\n"
     ]
    }
   ],
   "source": [
    "# Caminho completo para a pasta contendo as imagens conhecidas\n",
    "known_images_folder = r\"C:\\Users\\ahuyekita\\Documents\\jupyter_notebooks\\face_recognition\\01-data\"\n",
    "\n",
    "# Carregar faces conhecidas\n",
    "known_face_encodings, known_face_names, known_face_ids = load_known_faces(known_images_folder)\n",
    "\n",
    "# Verificar se as faces foram carregadas corretamente\n",
    "if known_face_encodings:\n",
    "    print(\"Known faces loaded successfully!\")\n",
    "else:\n",
    "    print(\"No known faces loaded.\")\n",
    "\n",
    "# Initialize variables\n",
    "face_locations = []\n",
    "face_encodings = []\n",
    "face_names = []\n",
    "\n",
    "# Open video capture\n",
    "video_capture = cv2.VideoCapture(0)\n",
    "\n",
    "while True:\n",
    "    # Read video frame\n",
    "    ret, frame = video_capture.read()\n",
    "\n",
    "    # Ensure the frame was successfully read\n",
    "    if not ret:\n",
    "        print(\"Failed to capture image\")\n",
    "        break\n",
    "\n",
    "    # Resize frame for faster processing (optional)\n",
    "    small_frame = cv2.resize(frame, (0, 0), fx=0.25, fy=0.25)\n",
    "\n",
    "    # Find all the faces and their encodings in the current frame\n",
    "    face_locations = face_recognition.face_locations(small_frame)\n",
    "    face_encodings = face_recognition.face_encodings(small_frame, face_locations)\n",
    "\n",
    "    face_names = []\n",
    "    for face_encoding in face_encodings:\n",
    "        # Compare face encoding with known faces\n",
    "        matches = face_recognition.compare_faces(known_face_encodings, face_encoding)\n",
    "        name = \"Unknown\"\n",
    "\n",
    "        # If a match is found, use the known face name\n",
    "        if True in matches:\n",
    "            first_match_index = matches.index(True)\n",
    "            name = known_face_names[first_match_index]\n",
    "\n",
    "        face_names.append(name)\n",
    "\n",
    "    # Display results\n",
    "    for (top, right, bottom, left), name in zip(face_locations, face_names):\n",
    "        # Scale back up face locations since we scaled them down\n",
    "        top *= 4\n",
    "        right *= 4\n",
    "        bottom *= 4\n",
    "        left *= 4\n",
    "\n",
    "        # Add margins to the face locations to include more of the head\n",
    "        margin = 40\n",
    "        top = max(0, top - margin)\n",
    "        right = min(frame.shape[1], right + margin)\n",
    "        bottom = min(frame.shape[0], bottom + margin)\n",
    "        left = max(0, left - margin)\n",
    "\n",
    "        # Draw a box around the face\n",
    "        cv2.rectangle(frame, (left, top), (right, bottom), (0, 0, 255), 2)\n",
    "\n",
    "        # Draw a label with the name below the face\n",
    "        cv2.rectangle(frame, (left, bottom - 35), (right, bottom), (0, 0, 255), cv2.FILLED)\n",
    "        font = cv2.FONT_HERSHEY_DUPLEX\n",
    "        cv2.putText(frame, name, (left + 6, bottom - 6), font, 0.7, (255, 255, 255), 1)\n",
    "\n",
    "    # Display the resulting image\n",
    "    cv2.imshow('Face Recognition', frame)\n",
    "\n",
    "    # Exit loop if 'q' is pressed\n",
    "    if cv2.waitKey(1) & 0xFF == ord('q'):\n",
    "        break\n",
    "\n",
    "# Release video capture and close windows\n",
    "video_capture.release()\n",
    "cv2.destroyAllWindows()"
   ]
  }
 ],
 "metadata": {
  "kernelspec": {
   "display_name": "Python 3 (ipykernel)",
   "language": "python",
   "name": "python3"
  },
  "language_info": {
   "codemirror_mode": {
    "name": "ipython",
    "version": 3
   },
   "file_extension": ".py",
   "mimetype": "text/x-python",
   "name": "python",
   "nbconvert_exporter": "python",
   "pygments_lexer": "ipython3",
   "version": "3.8.19"
  }
 },
 "nbformat": 4,
 "nbformat_minor": 5
}
